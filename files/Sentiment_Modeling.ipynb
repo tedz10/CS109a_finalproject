{
 "cells": [
  {
   "cell_type": "code",
   "execution_count": 671,
   "metadata": {
    "collapsed": true
   },
   "outputs": [],
   "source": [
    "import numpy as np\n",
    "import pandas as pd\n",
    "import scipy as sp\n",
    "from scipy.stats import mode\n",
    "from sklearn import linear_model\n",
    "import matplotlib\n",
    "import matplotlib.pyplot as plt\n",
    "from sklearn import discriminant_analysis\n",
    "from sklearn.decomposition import PCA\n",
    "from sklearn import preprocessing\n",
    "%matplotlib inline\n",
    "from datetime import datetime\n",
    "from sklearn.preprocessing import PolynomialFeatures\n",
    "import seaborn"
   ]
  },
  {
   "cell_type": "markdown",
   "metadata": {},
   "source": [
    "### Building our Sentiment Model\n",
    "\n",
    "The goal of our project being to analyze if sentiment analysis can improve our model. To see if adding sentiment analysis will improve our ability to predict consumer sentiment, we will create a new model which follows the same modeling process as our baseline model. The only difference is tat now we will be including sentiment analysis data from New York Times Articles as a feature. The rationale for this is that if we use the same process and the only change is the addition of sentiment data, then any increase in accuracy of our model can be attributed to sentiment data, and we can conclude that sentiment analysis does help predict consumer sentiment. \n",
    "\n",
    "\n",
    "### Sentiment Analysis and Data Processing\n",
    "After collecting years worth of New York Times headlines and sentiment analysis data, we first have to read all our csvs that contain the sentiment data. Then we have to standarize all our values. Because certain months had more articles written that month, it is very possible that certain months were just more prolific times for the New York Times. As a result, we want to average sentiment scores. Similar to other economic data, we will use the lag values for sentiment as well, as well as include the cocurrent data because the articles are released before the sentiment scores. \n"
   ]
  },
  {
   "cell_type": "code",
   "execution_count": 672,
   "metadata": {
    "collapsed": false
   },
   "outputs": [],
   "source": [
    "#Extract the MCI Data\n",
    "years = list(range(1982, 2017))\n",
    "sa_scores = pd.DataFrame()\n",
    "for year in years:\n",
    "    \n",
    "    #Input file\n",
    "    filename = 'sentiment_scores/SA_scores_' + str(year) + '.csv'\n",
    "    scores = pd.read_csv(filename)\n",
    "    \n",
    "    #Create positive_standard, neutral_standard, and positive\n",
    "    if len(scores.columns) == 4:\n",
    "        scores['positive'] = scores['pos']\n",
    "        scores['positive_standard'] = scores['pos']*1.0/scores['count']\n",
    "        scores['neutral_standard'] = scores['neutral']*1.0/scores['count']\n",
    "    \n",
    "    sa_scores = pd.concat([sa_scores, scores], axis = 0)\n",
    "sa_scores = sa_scores.drop(sa_scores.columns[[0,1,4]], axis = 1)\n",
    "sa_scores = sa_scores[['positive', 'positive_standard', 'neutral', 'neutral_standard']]"
   ]
  },
  {
   "cell_type": "code",
   "execution_count": 673,
   "metadata": {
    "collapsed": false
   },
   "outputs": [],
   "source": [
    "#Get the differences for our sentiment scores\n",
    "pos = sa_scores['positive'].values\n",
    "pos = np.diff(pos, axis=0)\n",
    "pos_stand = sa_scores['positive_standard'].values\n",
    "pos_stand = np.diff(pos_stand, axis = 0)\n",
    "neutral = sa_scores['neutral'].values\n",
    "neutral = np.diff(neutral, axis = 0)\n",
    "neutral_stand = sa_scores['neutral_standard'].values\n",
    "neutral_stand = np.diff(neutral_stand, axis = 0)"
   ]
  },
  {
   "cell_type": "code",
   "execution_count": 674,
   "metadata": {
    "collapsed": true
   },
   "outputs": [],
   "source": [
    "collective_data = pd.read_csv('datasets/collective_data.csv')\n",
    "#Extract mci data\n",
    "mci_data = collective_data.iloc[:,6:7].values\n",
    "mci = np.diff(mci_data, axis=0)"
   ]
  },
  {
   "cell_type": "code",
   "execution_count": 675,
   "metadata": {
    "collapsed": true
   },
   "outputs": [],
   "source": [
    "#Create functions for lags\n",
    "def add_lags(data):\n",
    "    data_lags = pd.concat([data.shift(i) for i in range(0, 13)], axis = 1)\n",
    "    return data_lags\n",
    "def add_lags_after(data):\n",
    "    data_lags = pd.concat([data.shift(i) for i in range(1, 13)], axis = 1)\n",
    "    return data_lags\n",
    "def add_lags_gdp(data):\n",
    "    data_lags = pd.concat([data.shift(3), data.shift(6), data.shift(9), data.shift(12)], axis = 1)\n",
    "    return data_lags"
   ]
  },
  {
   "cell_type": "code",
   "execution_count": 676,
   "metadata": {
    "collapsed": false
   },
   "outputs": [],
   "source": [
    "mci = pd.DataFrame(mci)\n",
    "pos = pd.DataFrame(pos)\n",
    "pos_stand = pd.DataFrame(pos_stand)\n",
    "neutral = pd.DataFrame(neutral)\n",
    "neutral_stand = pd.DataFrame(neutral_stand)\n",
    "date = collective_data.iloc[:,0:1]\n",
    "pce = collective_data.iloc[:,1:2]\n",
    "gdp = collective_data.iloc[:,2:3]\n",
    "ur = collective_data.iloc[:,3:4]\n",
    "m2 = collective_data.iloc[:,4:5]\n",
    "jobless = collective_data.iloc[:,5:6]\n",
    "\n",
    "pos_lags = add_lags(pos)\n",
    "pos_stand_lags = add_lags(pos_stand)\n",
    "neutral_lags = add_lags(neutral)\n",
    "neutral_stand_lags = add_lags(neutral_stand)\n",
    "pce_lags = add_lags_after(pce)\n",
    "gdp_lags = add_lags_gdp(gdp)\n",
    "ur_lags = add_lags_after(ur)\n",
    "m2_lags = add_lags(m2)\n",
    "jobless_lags = add_lags(jobless)\n",
    "mci_lags = add_lags_after(mci)\n",
    "\n",
    "all_data = pd.concat([date, gdp_lags, ur_lags, m2_lags, jobless_lags, mci_lags, mci], axis=1)"
   ]
  },
  {
   "cell_type": "code",
   "execution_count": 677,
   "metadata": {
    "collapsed": true
   },
   "outputs": [],
   "source": [
    "all_data = pd.concat([all_data, pos_stand_lags, neutral_stand_lags], axis = 1)"
   ]
  },
  {
   "cell_type": "code",
   "execution_count": 679,
   "metadata": {
    "collapsed": false
   },
   "outputs": [],
   "source": [
    "all_data = all_data.drop(all_data.columns[[0,1]], axis = 1)"
   ]
  },
  {
   "cell_type": "code",
   "execution_count": 680,
   "metadata": {
    "collapsed": false
   },
   "outputs": [],
   "source": [
    "#Split our data into train and test\n",
    "train = np.diff(all_data.iloc[60:380,:].values, axis = 0)\n",
    "test = np.diff(all_data.iloc[380:464,:].values, axis = 0)\n",
    "x_train = np.diff(all_data.iloc[60:380,:-1].values, axis = 0)\n",
    "y_train = np.diff(all_data.iloc[60:380,-1].values, axis = 0)\n",
    "x_test = np.diff(all_data.iloc[380:464,:-1], axis = 0)\n",
    "y_test = np.diff(all_data.iloc[380:464,-1], axis = 0)"
   ]
  },
  {
   "cell_type": "code",
   "execution_count": 681,
   "metadata": {
    "collapsed": true
   },
   "outputs": [],
   "source": [
    "##create a boostrap function to cross validate the best c value for Lasso\n",
    "#The idea is that the purpose of our test is to predict future values\n",
    "#as a result, instead of using k fold cv, which will choose each fold as a test data, we will randomly sample\n",
    "#sequences of data within our training data and then score them\n",
    "#we will do this for a variety of c values and see how to fix it\n",
    "import random\n",
    "\n",
    "def boot_lasso(x, y):\n",
    "    avg_acc = []\n",
    "    n = x.shape[0]\n",
    "    for i in range(-7, 8):\n",
    "        k = 10**i\n",
    "        acc = 0\n",
    "        for j in range(0,10):\n",
    "            m = random.randint(0,n-245)\n",
    "            x_train = x[m:m+200]\n",
    "            y_train = y[m:m+200]\n",
    "            x_test = x[m+200:m+244]\n",
    "            y_test = y[m+200:m+244]\n",
    "            lasso = linear_model.Lasso(alpha = k)\n",
    "            lasso.fit(x_train, y_train)\n",
    "            score = lasso.score(x_test, y_test)\n",
    "            acc += score\n",
    "        avg_acc.append(acc/10)\n",
    "    return np.argmax(avg_acc) -7, avg_acc\n",
    "        "
   ]
  },
  {
   "cell_type": "code",
   "execution_count": 682,
   "metadata": {
    "collapsed": false
   },
   "outputs": [],
   "source": [
    "best_alpha, scores = boot_lasso(x_train, y_train)"
   ]
  },
  {
   "cell_type": "code",
   "execution_count": 683,
   "metadata": {
    "collapsed": true
   },
   "outputs": [],
   "source": [
    "lasso = linear_model.Lasso(alpha = 10**best_alpha)\n",
    "lasso.fit(x_train, y_train)\n",
    "lasso_coefs = lasso.coef_\n",
    "coef_lst = []\n",
    "for i in range(0, len(lasso_coefs)):\n",
    "    if (lasso_coefs[i] == 0):\n",
    "        coef_lst.append(i)"
   ]
  },
  {
   "cell_type": "code",
   "execution_count": 684,
   "metadata": {
    "collapsed": true
   },
   "outputs": [],
   "source": [
    "new_data = all_data.drop(all_data.columns[coef_lst], axis = 1)"
   ]
  },
  {
   "cell_type": "code",
   "execution_count": 703,
   "metadata": {
    "collapsed": true
   },
   "outputs": [],
   "source": [
    "#Split our data into train and test\n",
    "train = np.diff(new_data.iloc[60:396,:].values, axis = 0)\n",
    "test = np.diff(new_data.iloc[396:464,:].values, axis = 0)\n",
    "x_train = np.diff(new_data.iloc[60:340,:-1].values, axis = 0)\n",
    "y_train = np.diff(new_data.iloc[60:340,-1].values, axis = 0)\n",
    "x_test = np.diff(new_data.iloc[340:464,:-1], axis = 0)\n",
    "y_test = np.diff(new_data.iloc[340:464,-1], axis = 0)"
   ]
  },
  {
   "cell_type": "code",
   "execution_count": 720,
   "metadata": {
    "collapsed": true
   },
   "outputs": [],
   "source": [
    "##create a boostrap function to cross validate the best c value for Lasso\n",
    "#The idea is that the purpose of our test is to predict future values\n",
    "#as a result, instead of using k fold cv, which will choose each fold as a test data, we will randomly sample\n",
    "#sequences of data within our training data and then score them\n",
    "#we will do this for a variety of c values and see how to fix it\n",
    "import random\n",
    "\n",
    "def boot_ridge(x, y):\n",
    "    avg_acc = []\n",
    "    n = x.shape[0]\n",
    "    for i in range(-7, 8):\n",
    "        k = 10**i\n",
    "        acc = 0\n",
    "        for j in range(0,10):\n",
    "            m = random.randint(0,n-245)\n",
    "            x_train = x[m:m+200]\n",
    "            y_train = y[m:m+200]\n",
    "            x_test = x[m+200:m+244]\n",
    "            y_test = y[m+200:m+244]\n",
    "            ridge = linear_model.Ridge(alpha = k)\n",
    "            ridge.fit(x_train, y_train)\n",
    "            score = ridge.score(x_test, y_test)\n",
    "            acc += score\n",
    "        avg_acc.append(acc/10)\n",
    "    return np.argmax(avg_acc) -7, avg_acc\n",
    "        "
   ]
  },
  {
   "cell_type": "code",
   "execution_count": 721,
   "metadata": {
    "collapsed": true
   },
   "outputs": [],
   "source": [
    "best_a, scores = boot_ridge(x_train, y_train)"
   ]
  },
  {
   "cell_type": "code",
   "execution_count": 722,
   "metadata": {
    "collapsed": false
   },
   "outputs": [],
   "source": [
    "ridge = linear_model.Ridge(alpha = best_a)\n",
    "ridge.fit(x_train, y_train)\n",
    "diffdiff_pred = ridge.predict(x_test)\n",
    "score = ridge.score(x_test, y_test)"
   ]
  },
  {
   "cell_type": "code",
   "execution_count": 752,
   "metadata": {
    "collapsed": false
   },
   "outputs": [
    {
     "name": "stdout",
     "output_type": "stream",
     "text": [
      "The score for our sentiment model is 0.482475923545\n"
     ]
    }
   ],
   "source": [
    "print 'The score for our sentiment model is ' + str(score)"
   ]
  },
  {
   "cell_type": "markdown",
   "metadata": {},
   "source": [
    "### Results\n",
    "\n",
    "After running our sentiment model, we see that the R^2 value of our model increased to .4824. "
   ]
  },
  {
   "cell_type": "code",
   "execution_count": 773,
   "metadata": {
    "collapsed": false
   },
   "outputs": [],
   "source": [
    "m = mci_data[341:464]\n",
    "m = m.ravel()"
   ]
  },
  {
   "cell_type": "code",
   "execution_count": 774,
   "metadata": {
    "collapsed": false
   },
   "outputs": [
    {
     "data": {
      "text/plain": [
       "123"
      ]
     },
     "execution_count": 774,
     "metadata": {},
     "output_type": "execute_result"
    }
   ],
   "source": [
    "len(m)"
   ]
  },
  {
   "cell_type": "code",
   "execution_count": 798,
   "metadata": {
    "collapsed": false
   },
   "outputs": [],
   "source": [
    "diff = mci[341:464].values\n",
    "diff = diff.ravel()\n",
    "d = mci[340:464].values\n",
    "d = d.ravel()"
   ]
  },
  {
   "cell_type": "code",
   "execution_count": 799,
   "metadata": {
    "collapsed": false
   },
   "outputs": [],
   "source": [
    "diffdiff = np.diff(d, axis=0)"
   ]
  },
  {
   "cell_type": "code",
   "execution_count": 807,
   "metadata": {
    "collapsed": false
   },
   "outputs": [],
   "source": [
    "h = pd.DataFrame({'m':m, 'diff':diff, 'diffdiff': diffdiff, 'diffdiff_pred':diffdiff_pred, 'mci_pred':mci_pred})"
   ]
  },
  {
   "cell_type": "code",
   "execution_count": 809,
   "metadata": {
    "collapsed": false
   },
   "outputs": [],
   "source": [
    "residuals = diffdiff - diffdiff_pred"
   ]
  },
  {
   "cell_type": "code",
   "execution_count": 819,
   "metadata": {
    "collapsed": false
   },
   "outputs": [
    {
     "data": {
      "image/png": "[encoded data removed]",
      "text/plain": [
       "<matplotlib.figure.Figure at 0x11eb9c510>"
      ]
     },
     "metadata": {},
     "output_type": "display_data"
    }
   ],
   "source": [
    "fig, ax = plt.subplots(figsize=(24,8))\n",
    "ax.scatter(diffdiff_pred, residuals)\n",
    "ax.set_xlabel('Fitted Value', fontsize = 20)\n",
    "ax.set_ylabel('Residuals', fontsize = 20)\n",
    "ax.set_title('Plot of Residuals', fontsize = 20)\n",
    "plt.show()"
   ]
  },
  {
   "cell_type": "code",
   "execution_count": 805,
   "metadata": {
    "collapsed": false
   },
   "outputs": [],
   "source": [
    "mci_pred = []\n",
    "for i in range(1, len(diffdiff_pred)):\n",
    "    d = diffdiff_pred[i] + diff[i-1]\n",
    "    pred = m[i-1] + d\n",
    "    mci_pred.append(pred)\n",
    "mci_pred.append(1)"
   ]
  },
  {
   "cell_type": "code",
   "execution_count": 759,
   "metadata": {
    "collapsed": false
   },
   "outputs": [
    {
     "name": "stdout",
     "output_type": "stream",
     "text": [
      "123\n"
     ]
    }
   ],
   "source": [
    "print len(m)"
   ]
  },
  {
   "cell_type": "code",
   "execution_count": 770,
   "metadata": {
    "collapsed": false
   },
   "outputs": [
    {
     "name": "stdout",
     "output_type": "stream",
     "text": [
      "122\n",
      "122\n"
     ]
    }
   ],
   "source": [
    "print len(mci_pred)\n",
    "rm = m[0:122]\n",
    "print len(rm)"
   ]
  },
  {
   "cell_type": "code",
   "execution_count": 761,
   "metadata": {
    "collapsed": false
   },
   "outputs": [],
   "source": [
    "dat = date[343:496].values\n",
    "date_lst = []\n",
    "for i in range(0, dat.shape[0]):\n",
    "    u = str(dat[i])\n",
    "    u = u.replace(',', '')\n",
    "    u = u.replace(\"'\", '')\n",
    "    u = u.replace('[', '')\n",
    "    u = u.replace(']', '')\n",
    "    u = datetime.strptime(u, '%d-%b-%y')\n",
    "    date_lst.append(u)"
   ]
  },
  {
   "cell_type": "code",
   "execution_count": 817,
   "metadata": {
    "collapsed": false
   },
   "outputs": [
    {
     "ename": "ValueError",
     "evalue": "x and y must have same first dimension",
     "output_type": "error",
     "traceback": [
      "\u001b[0;31m---------------------------------------------------------------------------\u001b[0m",
      "\u001b[0;31mValueError\u001b[0m                                Traceback (most recent call last)",
      "\u001b[0;32m<ipython-input-817-ffddec847962>\u001b[0m in \u001b[0;36m<module>\u001b[0;34m()\u001b[0m\n\u001b[1;32m     11\u001b[0m \u001b[0;34m\u001b[0m\u001b[0m\n\u001b[1;32m     12\u001b[0m \u001b[0mfig\u001b[0m\u001b[0;34m,\u001b[0m \u001b[0max\u001b[0m \u001b[0;34m=\u001b[0m \u001b[0mplt\u001b[0m\u001b[0;34m.\u001b[0m\u001b[0msubplots\u001b[0m\u001b[0;34m(\u001b[0m\u001b[0mfigsize\u001b[0m\u001b[0;34m=\u001b[0m\u001b[0;34m(\u001b[0m\u001b[0;36m28\u001b[0m\u001b[0;34m,\u001b[0m\u001b[0;36m10\u001b[0m\u001b[0;34m)\u001b[0m\u001b[0;34m)\u001b[0m\u001b[0;34m\u001b[0m\u001b[0m\n\u001b[0;32m---> 13\u001b[0;31m \u001b[0mpred\u001b[0m\u001b[0;34m,\u001b[0m \u001b[0;34m=\u001b[0m \u001b[0max\u001b[0m\u001b[0;34m.\u001b[0m\u001b[0mplot\u001b[0m\u001b[0;34m(\u001b[0m\u001b[0mdate_lst\u001b[0m\u001b[0;34m,\u001b[0m \u001b[0mmci_pred\u001b[0m\u001b[0;34m,\u001b[0m \u001b[0mc\u001b[0m\u001b[0;34m=\u001b[0m\u001b[0;34m'green'\u001b[0m\u001b[0;34m)\u001b[0m\u001b[0;34m\u001b[0m\u001b[0m\n\u001b[0m\u001b[1;32m     14\u001b[0m \u001b[0mreal\u001b[0m\u001b[0;34m,\u001b[0m \u001b[0;34m=\u001b[0m \u001b[0max\u001b[0m\u001b[0;34m.\u001b[0m\u001b[0mplot\u001b[0m\u001b[0;34m(\u001b[0m\u001b[0mdate_lst\u001b[0m\u001b[0;34m,\u001b[0m \u001b[0mrm\u001b[0m\u001b[0;34m,\u001b[0m \u001b[0mc\u001b[0m\u001b[0;34m=\u001b[0m\u001b[0;34m'blue'\u001b[0m\u001b[0;34m)\u001b[0m\u001b[0;34m\u001b[0m\u001b[0m\n\u001b[1;32m     15\u001b[0m \u001b[0max\u001b[0m\u001b[0;34m.\u001b[0m\u001b[0mset_ylabel\u001b[0m\u001b[0;34m(\u001b[0m\u001b[0;34m\"MCI Score\"\u001b[0m\u001b[0;34m,\u001b[0m \u001b[0mfontsize\u001b[0m \u001b[0;34m=\u001b[0m \u001b[0;36m20\u001b[0m\u001b[0;34m)\u001b[0m\u001b[0;34m\u001b[0m\u001b[0m\n",
      "\u001b[0;32m/Users/curtishsu/anaconda/lib/python2.7/site-packages/matplotlib/__init__.pyc\u001b[0m in \u001b[0;36minner\u001b[0;34m(ax, *args, **kwargs)\u001b[0m\n\u001b[1;32m   1810\u001b[0m                     warnings.warn(msg % (label_namer, func.__name__),\n\u001b[1;32m   1811\u001b[0m                                   RuntimeWarning, stacklevel=2)\n\u001b[0;32m-> 1812\u001b[0;31m             \u001b[0;32mreturn\u001b[0m \u001b[0mfunc\u001b[0m\u001b[0;34m(\u001b[0m\u001b[0max\u001b[0m\u001b[0;34m,\u001b[0m \u001b[0;34m*\u001b[0m\u001b[0margs\u001b[0m\u001b[0;34m,\u001b[0m \u001b[0;34m**\u001b[0m\u001b[0mkwargs\u001b[0m\u001b[0;34m)\u001b[0m\u001b[0;34m\u001b[0m\u001b[0m\n\u001b[0m\u001b[1;32m   1813\u001b[0m         \u001b[0mpre_doc\u001b[0m \u001b[0;34m=\u001b[0m \u001b[0minner\u001b[0m\u001b[0;34m.\u001b[0m\u001b[0m__doc__\u001b[0m\u001b[0;34m\u001b[0m\u001b[0m\n\u001b[1;32m   1814\u001b[0m         \u001b[0;32mif\u001b[0m \u001b[0mpre_doc\u001b[0m \u001b[0;32mis\u001b[0m \u001b[0mNone\u001b[0m\u001b[0;34m:\u001b[0m\u001b[0;34m\u001b[0m\u001b[0m\n",
      "\u001b[0;32m/Users/curtishsu/anaconda/lib/python2.7/site-packages/matplotlib/axes/_axes.pyc\u001b[0m in \u001b[0;36mplot\u001b[0;34m(self, *args, **kwargs)\u001b[0m\n\u001b[1;32m   1422\u001b[0m             \u001b[0mkwargs\u001b[0m\u001b[0;34m[\u001b[0m\u001b[0;34m'color'\u001b[0m\u001b[0;34m]\u001b[0m \u001b[0;34m=\u001b[0m \u001b[0mc\u001b[0m\u001b[0;34m\u001b[0m\u001b[0m\n\u001b[1;32m   1423\u001b[0m \u001b[0;34m\u001b[0m\u001b[0m\n\u001b[0;32m-> 1424\u001b[0;31m         \u001b[0;32mfor\u001b[0m \u001b[0mline\u001b[0m \u001b[0;32min\u001b[0m \u001b[0mself\u001b[0m\u001b[0;34m.\u001b[0m\u001b[0m_get_lines\u001b[0m\u001b[0;34m(\u001b[0m\u001b[0;34m*\u001b[0m\u001b[0margs\u001b[0m\u001b[0;34m,\u001b[0m \u001b[0;34m**\u001b[0m\u001b[0mkwargs\u001b[0m\u001b[0;34m)\u001b[0m\u001b[0;34m:\u001b[0m\u001b[0;34m\u001b[0m\u001b[0m\n\u001b[0m\u001b[1;32m   1425\u001b[0m             \u001b[0mself\u001b[0m\u001b[0;34m.\u001b[0m\u001b[0madd_line\u001b[0m\u001b[0;34m(\u001b[0m\u001b[0mline\u001b[0m\u001b[0;34m)\u001b[0m\u001b[0;34m\u001b[0m\u001b[0m\n\u001b[1;32m   1426\u001b[0m             \u001b[0mlines\u001b[0m\u001b[0;34m.\u001b[0m\u001b[0mappend\u001b[0m\u001b[0;34m(\u001b[0m\u001b[0mline\u001b[0m\u001b[0;34m)\u001b[0m\u001b[0;34m\u001b[0m\u001b[0m\n",
      "\u001b[0;32m/Users/curtishsu/anaconda/lib/python2.7/site-packages/matplotlib/axes/_base.pyc\u001b[0m in \u001b[0;36m_grab_next_args\u001b[0;34m(self, *args, **kwargs)\u001b[0m\n\u001b[1;32m    384\u001b[0m                 \u001b[0;32mreturn\u001b[0m\u001b[0;34m\u001b[0m\u001b[0m\n\u001b[1;32m    385\u001b[0m             \u001b[0;32mif\u001b[0m \u001b[0mlen\u001b[0m\u001b[0;34m(\u001b[0m\u001b[0mremaining\u001b[0m\u001b[0;34m)\u001b[0m \u001b[0;34m<=\u001b[0m \u001b[0;36m3\u001b[0m\u001b[0;34m:\u001b[0m\u001b[0;34m\u001b[0m\u001b[0m\n\u001b[0;32m--> 386\u001b[0;31m                 \u001b[0;32mfor\u001b[0m \u001b[0mseg\u001b[0m \u001b[0;32min\u001b[0m \u001b[0mself\u001b[0m\u001b[0;34m.\u001b[0m\u001b[0m_plot_args\u001b[0m\u001b[0;34m(\u001b[0m\u001b[0mremaining\u001b[0m\u001b[0;34m,\u001b[0m \u001b[0mkwargs\u001b[0m\u001b[0;34m)\u001b[0m\u001b[0;34m:\u001b[0m\u001b[0;34m\u001b[0m\u001b[0m\n\u001b[0m\u001b[1;32m    387\u001b[0m                     \u001b[0;32myield\u001b[0m \u001b[0mseg\u001b[0m\u001b[0;34m\u001b[0m\u001b[0m\n\u001b[1;32m    388\u001b[0m                 \u001b[0;32mreturn\u001b[0m\u001b[0;34m\u001b[0m\u001b[0m\n",
      "\u001b[0;32m/Users/curtishsu/anaconda/lib/python2.7/site-packages/matplotlib/axes/_base.pyc\u001b[0m in \u001b[0;36m_plot_args\u001b[0;34m(self, tup, kwargs)\u001b[0m\n\u001b[1;32m    362\u001b[0m             \u001b[0mx\u001b[0m\u001b[0;34m,\u001b[0m \u001b[0my\u001b[0m \u001b[0;34m=\u001b[0m \u001b[0mindex_of\u001b[0m\u001b[0;34m(\u001b[0m\u001b[0mtup\u001b[0m\u001b[0;34m[\u001b[0m\u001b[0;34m-\u001b[0m\u001b[0;36m1\u001b[0m\u001b[0;34m]\u001b[0m\u001b[0;34m)\u001b[0m\u001b[0;34m\u001b[0m\u001b[0m\n\u001b[1;32m    363\u001b[0m \u001b[0;34m\u001b[0m\u001b[0m\n\u001b[0;32m--> 364\u001b[0;31m         \u001b[0mx\u001b[0m\u001b[0;34m,\u001b[0m \u001b[0my\u001b[0m \u001b[0;34m=\u001b[0m \u001b[0mself\u001b[0m\u001b[0;34m.\u001b[0m\u001b[0m_xy_from_xy\u001b[0m\u001b[0;34m(\u001b[0m\u001b[0mx\u001b[0m\u001b[0;34m,\u001b[0m \u001b[0my\u001b[0m\u001b[0;34m)\u001b[0m\u001b[0;34m\u001b[0m\u001b[0m\n\u001b[0m\u001b[1;32m    365\u001b[0m \u001b[0;34m\u001b[0m\u001b[0m\n\u001b[1;32m    366\u001b[0m         \u001b[0;32mif\u001b[0m \u001b[0mself\u001b[0m\u001b[0;34m.\u001b[0m\u001b[0mcommand\u001b[0m \u001b[0;34m==\u001b[0m \u001b[0;34m'plot'\u001b[0m\u001b[0;34m:\u001b[0m\u001b[0;34m\u001b[0m\u001b[0m\n",
      "\u001b[0;32m/Users/curtishsu/anaconda/lib/python2.7/site-packages/matplotlib/axes/_base.pyc\u001b[0m in \u001b[0;36m_xy_from_xy\u001b[0;34m(self, x, y)\u001b[0m\n\u001b[1;32m    221\u001b[0m         \u001b[0my\u001b[0m \u001b[0;34m=\u001b[0m \u001b[0m_check_1d\u001b[0m\u001b[0;34m(\u001b[0m\u001b[0my\u001b[0m\u001b[0;34m)\u001b[0m\u001b[0;34m\u001b[0m\u001b[0m\n\u001b[1;32m    222\u001b[0m         \u001b[0;32mif\u001b[0m \u001b[0mx\u001b[0m\u001b[0;34m.\u001b[0m\u001b[0mshape\u001b[0m\u001b[0;34m[\u001b[0m\u001b[0;36m0\u001b[0m\u001b[0;34m]\u001b[0m \u001b[0;34m!=\u001b[0m \u001b[0my\u001b[0m\u001b[0;34m.\u001b[0m\u001b[0mshape\u001b[0m\u001b[0;34m[\u001b[0m\u001b[0;36m0\u001b[0m\u001b[0;34m]\u001b[0m\u001b[0;34m:\u001b[0m\u001b[0;34m\u001b[0m\u001b[0m\n\u001b[0;32m--> 223\u001b[0;31m             \u001b[0;32mraise\u001b[0m \u001b[0mValueError\u001b[0m\u001b[0;34m(\u001b[0m\u001b[0;34m\"x and y must have same first dimension\"\u001b[0m\u001b[0;34m)\u001b[0m\u001b[0;34m\u001b[0m\u001b[0m\n\u001b[0m\u001b[1;32m    224\u001b[0m         \u001b[0;32mif\u001b[0m \u001b[0mx\u001b[0m\u001b[0;34m.\u001b[0m\u001b[0mndim\u001b[0m \u001b[0;34m>\u001b[0m \u001b[0;36m2\u001b[0m \u001b[0;32mor\u001b[0m \u001b[0my\u001b[0m\u001b[0;34m.\u001b[0m\u001b[0mndim\u001b[0m \u001b[0;34m>\u001b[0m \u001b[0;36m2\u001b[0m\u001b[0;34m:\u001b[0m\u001b[0;34m\u001b[0m\u001b[0m\n\u001b[1;32m    225\u001b[0m             \u001b[0;32mraise\u001b[0m \u001b[0mValueError\u001b[0m\u001b[0;34m(\u001b[0m\u001b[0;34m\"x and y can be no greater than 2-D\"\u001b[0m\u001b[0;34m)\u001b[0m\u001b[0;34m\u001b[0m\u001b[0m\n",
      "\u001b[0;31mValueError\u001b[0m: x and y must have same first dimension"
     ]
    },
    {
     "data": {
      "image/png": "[encoded data removed]",
      "text/plain": [
       "<matplotlib.figure.Figure at 0x11efaf410>"
      ]
     },
     "metadata": {},
     "output_type": "display_data"
    }
   ],
   "source": [
    "# plt.figure(figsize=(18,5))\n",
    "# pred, = plt.plot(date_lst, mci_pred, c='green')\n",
    "# real, = plt.plot(date_lst, rm, c='blue')\n",
    "\n",
    "\n",
    "# plt.legend((pred, real), ('Predicted MCI', \"Real MCI\"))\n",
    "\n",
    "# plt.ylabel(\"MCI Scores\", fontsize = 20)\n",
    "# plt.suptitle('Sentiment Modeling Results')\n",
    "# plt.show()\n",
    "\n",
    "fig, ax = plt.subplots(figsize=(28,10))\n",
    "pred, = ax.plot(date_lst, mci_pred, c='green')\n",
    "real, = ax.plot(date_lst, rm, c='blue')\n",
    "ax.set_ylabel(\"MCI Score\", fontsize = 20)\n",
    "ax.set_title(\"Sentiment Modeling\", fontsize = 20)\n",
    "ax.legend((pred, real), ('Predicted MCI', \"Real MCI\"), loc='best', fontsize = 12)\n",
    "plt.show()"
   ]
  },
  {
   "cell_type": "code",
   "execution_count": null,
   "metadata": {
    "collapsed": true
   },
   "outputs": [],
   "source": []
  },
  {
   "cell_type": "code",
   "execution_count": null,
   "metadata": {
    "collapsed": true
   },
   "outputs": [],
   "source": []
  }
 ],
 "metadata": {
  "anaconda-cloud": {},
  "kernelspec": {
   "display_name": "Python [Root]",
   "language": "python",
   "name": "Python [Root]"
  },
  "language_info": {
   "codemirror_mode": {
    "name": "ipython",
    "version": 2
   },
   "file_extension": ".py",
   "mimetype": "text/x-python",
   "name": "python",
   "nbconvert_exporter": "python",
   "pygments_lexer": "ipython2",
   "version": "2.7.12"
  }
 },
 "nbformat": 4,
 "nbformat_minor": 0
}
